{
 "cells": [
  {
   "cell_type": "code",
   "execution_count": 5,
   "metadata": {},
   "outputs": [
    {
     "name": "stdout",
     "output_type": "stream",
     "text": [
      "['blurry', 'male', 'young', 'chubby', 'pale_skin', 'rosy_cheeks', 'oval_face', 'receding_hairline', 'bald', 'bangs', 'black_hair', 'blonde_hair', 'gray_hair', 'brown_hair', 'straight_hair', 'wavy_hair', 'long_hair', 'arched_eyebrows', 'bushy_eyebrows', 'bags_under_eyes', 'eyeglasses', 'sunglasses', 'narrow_eyes', 'big_nose', 'pointy_nose', 'high_cheekbones', 'big_lips', 'double_chin', 'no_beard', '5_o_clock_shadow', 'goatee', 'mustache', 'sideburns', 'heavy_makeup', 'wearing_earrings', 'wearing_hat', 'wearing_lipstick', 'wearing_necklace', 'wearing_necktie', 'wearing_mask']\n",
      "M: 64.139517%, F: 35.86 Total: 35666\n"
     ]
    }
   ],
   "source": [
    "import json \n",
    "\n",
    "with open('celebvhq_info.json', 'r') as f:\n",
    "    meta = json.load(f)\n",
    "\n",
    "print(meta['meta_info'][\"appearance_mapping\"])\n",
    "F=0\n",
    "M=0\n",
    "for vid_id in meta[\"clips\"].keys():\n",
    "    vid = meta[\"clips\"][vid_id]\n",
    "    if vid['attributes']['appearance'][1] == 1:\n",
    "        M+=1\n",
    "    else:\n",
    "        F+=1 \n",
    "\n",
    "print(f\"M: {M/(M+F)*100:2f}%, F: {F/(M+F)*100:.2f} Total: {M+F}\")"
   ]
  }
 ],
 "metadata": {
  "kernelspec": {
   "display_name": "Python 3",
   "language": "python",
   "name": "python3"
  },
  "language_info": {
   "codemirror_mode": {
    "name": "ipython",
    "version": 3
   },
   "file_extension": ".py",
   "mimetype": "text/x-python",
   "name": "python",
   "nbconvert_exporter": "python",
   "pygments_lexer": "ipython3",
   "version": "3.10.12"
  }
 },
 "nbformat": 4,
 "nbformat_minor": 2
}
